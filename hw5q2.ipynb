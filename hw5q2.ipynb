{
  "nbformat": 4,
  "nbformat_minor": 0,
  "metadata": {
    "colab": {
      "provenance": []
    },
    "kernelspec": {
      "name": "python3",
      "display_name": "Python 3"
    },
    "language_info": {
      "name": "python"
    }
  },
  "cells": [
    {
      "cell_type": "code",
      "execution_count": 18,
      "metadata": {
        "id": "yGhyOpoRh4Ng"
      },
      "outputs": [],
      "source": [
        "import numpy as np\n",
        "import matplotlib.pyplot as plt\n",
        "from sklearn.datasets import load_breast_cancer\n",
        "from sklearn.model_selection import train_test_split\n",
        "from sklearn.preprocessing import StandardScaler\n",
        "from sklearn.svm import SVC\n",
        "from sklearn.metrics import accuracy_score, classification_report, confusion_matrix"
      ]
    },
    {
      "cell_type": "code",
      "source": [
        "breast_cancer = load_breast_cancer()\n",
        "X = breast_cancer.data\n",
        "y = breast_cancer.target\n",
        "\n",
        "feature_names = breast_cancer.feature_names\n",
        "feature_indices = {name: i for i, name in enumerate(feature_names)}\n",
        "\n",
        "selected_features = ['worst compactness', 'worst concavity', 'worst area']\n",
        "feature_indices_to_use = [feature_indices[name] for name in selected_features]\n",
        "\n",
        "X_selected = X[:, feature_indices_to_use]\n"
      ],
      "metadata": {
        "id": "qAxPuz5ti3sh"
      },
      "execution_count": 19,
      "outputs": []
    },
    {
      "cell_type": "code",
      "source": [
        "X_train, X_test, y_train, y_test = train_test_split(X_selected, y, train_size=0.6, random_state=9)"
      ],
      "metadata": {
        "id": "ta9IujsVjFwi"
      },
      "execution_count": 26,
      "outputs": []
    },
    {
      "cell_type": "code",
      "source": [
        "scaler = StandardScaler()\n",
        "X_train_scaled = scaler.fit_transform(X_train)\n",
        "X_test_scaled = scaler.transform(X_test)"
      ],
      "metadata": {
        "id": "HcKIIgPYjHVv"
      },
      "execution_count": 27,
      "outputs": []
    },
    {
      "cell_type": "code",
      "source": [
        "svm_linear = SVC(kernel='linear', random_state=9)\n",
        "svm_linear.fit(X_train_scaled, y_train)\n",
        "\n",
        "y_pred_linear = svm_linear.predict(X_test_scaled)"
      ],
      "metadata": {
        "id": "6I6JvoTTjIZQ"
      },
      "execution_count": 28,
      "outputs": []
    },
    {
      "cell_type": "markdown",
      "source": [
        "What is the accuracy of the classification model with a linear kernel?"
      ],
      "metadata": {
        "id": "zowGcYvfkSwh"
      }
    },
    {
      "cell_type": "code",
      "source": [
        "linear_accuracy = accuracy_score(y_test, y_pred_linear)\n",
        "print(\"lin accuracy\")\n",
        "print(linear_accuracy)"
      ],
      "metadata": {
        "colab": {
          "base_uri": "https://localhost:8080/",
          "height": 0
        },
        "id": "wzLGIXsAjLyM",
        "outputId": "cc1f247f-6f6d-431b-dee3-b063439b9d3a"
      },
      "execution_count": 29,
      "outputs": [
        {
          "output_type": "stream",
          "name": "stdout",
          "text": [
            "lin accuracy\n",
            "0.9385964912280702\n"
          ]
        }
      ]
    },
    {
      "cell_type": "markdown",
      "source": [
        "What is the accuracy of the classification model with a radial basis function\n",
        "kernel with regularization strength parameter, C=2?"
      ],
      "metadata": {
        "id": "EHbDjtdVkiad"
      }
    },
    {
      "cell_type": "code",
      "source": [
        "svm_rbf = SVC(kernel='rbf', C=2, random_state=9)\n",
        "svm_rbf.fit(X_train_scaled, y_train)\n",
        "\n",
        "y_pred_rbf = svm_rbf.predict(X_test_scaled)\n",
        "\n",
        "rbf_accuracy = accuracy_score(y_test, y_pred_rbf)\n",
        "print(\"radial basis func accuracy\")\n",
        "print(rbf_accuracy)"
      ],
      "metadata": {
        "colab": {
          "base_uri": "https://localhost:8080/",
          "height": 0
        },
        "id": "abMkS3I1jORz",
        "outputId": "6a1db906-a832-496c-f6c2-a24fc959f646"
      },
      "execution_count": 30,
      "outputs": [
        {
          "output_type": "stream",
          "name": "stdout",
          "text": [
            "radial basis func accuracy\n",
            "0.9429824561403509\n"
          ]
        }
      ]
    }
  ]
}